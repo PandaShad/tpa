{
 "cells": [
  {
   "cell_type": "code",
   "execution_count": 1,
   "id": "ac950002-d3d4-426b-8be8-728bacfdc69e",
   "metadata": {},
   "outputs": [],
   "source": [
    "from pyspark.sql import SparkSession\n",
    "from pyspark.sql.types import StructType, StructField, StringType, IntegerType\n",
    "from pyspark.sql import functions as F"
   ]
  },
  {
   "cell_type": "code",
   "execution_count": 2,
   "id": "70a279c1-3e42-4334-b978-030b9691d72d",
   "metadata": {},
   "outputs": [
    {
     "name": "stderr",
     "output_type": "stream",
     "text": [
      "24/01/04 21:57:24 WARN Utils: Your hostname, srv458516 resolves to a loopback address: 127.0.1.1; using 85.31.239.246 instead (on interface eth0)\n",
      "24/01/04 21:57:24 WARN Utils: Set SPARK_LOCAL_IP if you need to bind to another address\n",
      "Setting default log level to \"WARN\".\n",
      "To adjust logging level use sc.setLogLevel(newLevel). For SparkR, use setLogLevel(newLevel).\n",
      "24/01/04 21:57:25 WARN NativeCodeLoader: Unable to load native-hadoop library for your platform... using builtin-java classes where applicable\n"
     ]
    }
   ],
   "source": [
    "spark = SparkSession.builder.appName(\"tpa\").config(\"spark.sql.warehouse.dir\", \"/user/hive/warehouse\").config(\"spark.sql.catalogImplementation\", \"hive\").enableHiveSupport().getOrCreate()"
   ]
  },
  {
   "cell_type": "code",
   "execution_count": 3,
   "id": "43661001-1263-49dd-af78-e5d03adebc2a",
   "metadata": {},
   "outputs": [
    {
     "name": "stdout",
     "output_type": "stream",
     "text": [
      "Found 2 items\n",
      "-rw-r--r--   1 root root      38916 2024-01-04 16:51 /root/tpa/tpa/DATABASE/data/CO2.csv\n",
      "-rw-r--r--   1 root root      14114 2024-01-02 22:10 /root/tpa/tpa/DATABASE/data/Catalogue.csv\n"
     ]
    }
   ],
   "source": [
    "!hadoop fs -ls /root/tpa/tpa/DATABASE/data"
   ]
  },
  {
   "cell_type": "code",
   "execution_count": 4,
   "id": "b61d78bc-46e0-4368-bff7-6de3cd39f148",
   "metadata": {},
   "outputs": [],
   "source": [
    "csv_file_path = \"/root/tpa/tpa/DATABASE/data/CO2.csv\"\n",
    "\n",
    "custom_schema = StructType([\n",
    "    StructField(\"\", IntegerType(), True),\n",
    "    StructField(\"Marque / Modele\", StringType(), True),\n",
    "    StructField(\"Bonus / Malus\", StringType(), True),\n",
    "    StructField(\"Rejets CO2 g/km\", IntegerType(), True),\n",
    "    StructField(\"Cout enerie\", StringType(), True),\n",
    "])\n",
    "\n",
    "df_co2 = spark.read.csv(csv_file_path, header=True, schema=custom_schema)"
   ]
  },
  {
   "cell_type": "code",
   "execution_count": 5,
   "id": "b33210a5-11ab-4e8a-9cf1-5678458d4339",
   "metadata": {},
   "outputs": [
    {
     "name": "stderr",
     "output_type": "stream",
     "text": [
      "                                                                                \r"
     ]
    },
    {
     "name": "stdout",
     "output_type": "stream",
     "text": [
      "+---+--------------------+-------------+---------------+-----------+\n",
      "|   |     Marque / Modele|Bonus / Malus|Rejets CO2 g/km|Cout enerie|\n",
      "+---+--------------------+-------------+---------------+-----------+\n",
      "|  2|AUDI E-TRON SPORT...|    -6 000€ 1|              0|      319 €|\n",
      "|  3|AUDI E-TRON SPORT...|    -6 000€ 1|              0|      356 €|\n",
      "|  4|AUDI E-TRON 55 (4...|    -6 000€ 1|              0|      357 €|\n",
      "|  5|AUDI E-TRON 50 (3...|    -6 000€ 1|              0|      356 €|\n",
      "|  6|       BMW i3 120 Ah|    -6 000€ 1|              0|      204 €|\n",
      "|  7|      BMW i3s 120 Ah|    -6 000€ 1|              0|      204 €|\n",
      "|  8|    CITROEN BERLINGO|    -6 000€ 1|              0|      203 €|\n",
      "|  9|      CITROEN C-ZERO|    -6 000€ 1|              0|      491 €|\n",
      "| 10|DS DS3 CROSSBACK ...|    -6 000€ 1|              0|      251 €|\n",
      "| 11|HYUNDAI KONA elec...|    -6 000€ 1|              0|      205 €|\n",
      "| 12|HYUNDAI KONA elec...|    -6 000€ 1|              0|      205 €|\n",
      "| 13|JAGUAR I-PACE EV4...|    -6 000€ 1|              0|      271 €|\n",
      "| 14|KIA e-NIRO Moteur...|    -6 000€ 1|              0|      212 €|\n",
      "| 15|KIA e-NIRO Moteur...|    -6 000€ 1|              0|      203 €|\n",
      "| 16|KIA SOUL Moteur Ã...|    -6 000€ 1|              0|      214 €|\n",
      "| 17|KIA SOUL Moteur Ã...|    -6 000€ 1|              0|      214 €|\n",
      "| 18|MERCEDES EQC 400 ...|    -6 000€ 1|              0|      291 €|\n",
      "| 19|MERCEDES VITO Tou...|    -6 000€ 1|              0|      411 €|\n",
      "| 20|MERCEDES VITO Tou...|    -6 000€ 1|              0|      411 €|\n",
      "| 21|MINI MINI Cooper ...|    -6 000€ 1|              0|      199 €|\n",
      "+---+--------------------+-------------+---------------+-----------+\n",
      "only showing top 20 rows\n",
      "\n"
     ]
    }
   ],
   "source": [
    "df_co2.show()"
   ]
  },
  {
   "cell_type": "code",
   "execution_count": 6,
   "id": "01fbc233-0856-4cfe-bbbb-07cd1ef5b7fe",
   "metadata": {},
   "outputs": [
    {
     "name": "stdout",
     "output_type": "stream",
     "text": [
      "+---+--------------------+-------------+---------------+-----------+--------+\n",
      "|   |     Marque / Modele|Bonus / Malus|Rejets CO2 g/km|Cout enerie|  Marque|\n",
      "+---+--------------------+-------------+---------------+-----------+--------+\n",
      "|  2|AUDI E-TRON SPORT...|        -6000|              0|        319|    AUDI|\n",
      "|  3|AUDI E-TRON SPORT...|        -6000|              0|        356|    AUDI|\n",
      "|  4|AUDI E-TRON 55 (4...|        -6000|              0|        357|    AUDI|\n",
      "|  5|AUDI E-TRON 50 (3...|        -6000|              0|        356|    AUDI|\n",
      "|  6|       BMW i3 120 Ah|        -6000|              0|        204|     BMW|\n",
      "|  7|      BMW i3s 120 Ah|        -6000|              0|        204|     BMW|\n",
      "|  8|    CITROEN BERLINGO|        -6000|              0|        203| CITROEN|\n",
      "|  9|      CITROEN C-ZERO|        -6000|              0|        491| CITROEN|\n",
      "| 10|DS DS3 CROSSBACK ...|        -6000|              0|        251|      DS|\n",
      "| 11|HYUNDAI KONA elec...|        -6000|              0|        205| HYUNDAI|\n",
      "| 12|HYUNDAI KONA elec...|        -6000|              0|        205| HYUNDAI|\n",
      "| 13|JAGUAR I-PACE EV4...|        -6000|              0|        271|  JAGUAR|\n",
      "| 14|KIA e-NIRO Moteur...|        -6000|              0|        212|     KIA|\n",
      "| 15|KIA e-NIRO Moteur...|        -6000|              0|        203|     KIA|\n",
      "| 16|KIA SOUL Moteur Ã...|        -6000|              0|        214|     KIA|\n",
      "| 17|KIA SOUL Moteur Ã...|        -6000|              0|        214|     KIA|\n",
      "| 18|MERCEDES EQC 400 ...|        -6000|              0|        291|MERCEDES|\n",
      "| 19|MERCEDES VITO Tou...|        -6000|              0|        411|MERCEDES|\n",
      "| 20|MERCEDES VITO Tou...|        -6000|              0|        411|MERCEDES|\n",
      "| 21|MINI MINI Cooper ...|        -6000|              0|        199|    MINI|\n",
      "+---+--------------------+-------------+---------------+-----------+--------+\n",
      "only showing top 20 rows\n",
      "\n"
     ]
    }
   ],
   "source": [
    "df_co2 = df_co2.withColumn(\"Marque\", F.split(df_co2[\"Marque / Modele\"], \" \")[0])\n",
    "\n",
    "# Convert to integer\n",
    "df_co2 = df_co2.withColumn(\"Cout enerie\", F.regexp_replace(\"Cout enerie\", \"[^0-9]\", \"\"))\n",
    "df_co2 = df_co2.withColumn(\"Cout enerie\", df_co2[\"Cout enerie\"].cast(\"int\"))\n",
    "\n",
    "pattern = r'([+-]?\\d+)\\s*€.*'\n",
    "df_co2 = df_co2.withColumn(\"Bonus / Malus\", F.regexp_replace(F.col(\"Bonus / Malus\"), pattern, \"$1\"))\n",
    "df_co2 = df_co2.withColumn(\"Bonus / Malus\", F.regexp_replace(F.col(\"Bonus / Malus\"), \"[^0-9-]\", \"\").cast(\"int\"))\n",
    "\n",
    "df_co2.show()"
   ]
  },
  {
   "cell_type": "code",
   "execution_count": 7,
   "id": "3989ab09-5524-4030-a7b1-a473132986bc",
   "metadata": {},
   "outputs": [],
   "source": [
    "result_df = df_co2.groupBy(\"Marque\").agg(\n",
    "    F.round(F.avg(\"Bonus / Malus\"), 2).alias(\"Avg_Bonus_Malus\"),\n",
    "    F.round(F.avg(\"Rejets CO2 g/km\"), 2).alias(\"Avg_Rejets_CO2\"),\n",
    "    F.round(F.avg(\"Cout enerie\"), 2).alias(\"Avg_Cout_energie\")\n",
    ").withColumn(\"Marque\", F.lower(F.col(\"Marque\")))"
   ]
  },
  {
   "cell_type": "code",
   "execution_count": 8,
   "id": "acd1f54d-0af8-4813-96cc-8d4967db1dfe",
   "metadata": {},
   "outputs": [
    {
     "name": "stdout",
     "output_type": "stream",
     "text": [
      "+----------+---------------+--------------+----------------+\n",
      "|    Marque|Avg_Bonus_Malus|Avg_Rejets_CO2|Avg_Cout_energie|\n",
      "+----------+---------------+--------------+----------------+\n",
      "|  mercedes|        8237.36|        187.63|          749.98|\n",
      "|   porsche|           NULL|         69.86|           89.71|\n",
      "|   hyundai|        -6000.0|          8.67|           151.0|\n",
      "|    toyota|           NULL|          32.0|            43.0|\n",
      "|     skoda|        -6000.0|         27.56|           98.89|\n",
      "|    nissan|         5802.4|         160.0|           681.2|\n",
      "|      land|           NULL|          69.0|            78.0|\n",
      "|   citroen|        -6000.0|           0.0|           347.0|\n",
      "|   bentley|           NULL|          84.0|           102.0|\n",
      "|      audi|        -6000.0|          26.1|           191.6|\n",
      "|      mini|        -6000.0|          21.5|           126.0|\n",
      "|   peugeot|        -6000.0|         15.83|          144.17|\n",
      "|    jaguar|        -6000.0|           0.0|           271.0|\n",
      "|     volvo|           NULL|         42.45|           72.73|\n",
      "|     tesla|        -6000.0|           0.0|          245.89|\n",
      "|       bmw|        -6000.0|         39.26|           80.53|\n",
      "|volkswagen|        -6000.0|         13.33|          149.33|\n",
      "|       kia|        -6000.0|         10.33|          157.67|\n",
      "|     smart|        -6000.0|           0.0|          191.36|\n",
      "|   renault|        -6000.0|           0.0|           206.0|\n",
      "+----------+---------------+--------------+----------------+\n",
      "only showing top 20 rows\n",
      "\n"
     ]
    }
   ],
   "source": [
    "result_df.show()"
   ]
  },
  {
   "cell_type": "code",
   "execution_count": 9,
   "id": "6ac01efc-04eb-482a-aa23-50711b966418",
   "metadata": {},
   "outputs": [
    {
     "name": "stderr",
     "output_type": "stream",
     "text": [
      "24/01/04 21:57:50 WARN HiveConf: HiveConf of name hive.stats.jdbc.timeout does not exist\n",
      "24/01/04 21:57:50 WARN HiveConf: HiveConf of name hive.stats.retries.wait does not exist\n",
      "24/01/04 21:57:53 WARN ObjectStore: Version information not found in metastore. hive.metastore.schema.verification is not enabled so recording the schema version 2.3.0\n",
      "24/01/04 21:57:53 WARN ObjectStore: setMetaStoreSchemaVersion called but recording version is disabled: version = 2.3.0, comment = Set by MetaStore root@127.0.1.1\n"
     ]
    },
    {
     "name": "stdout",
     "output_type": "stream",
     "text": [
      "+---------+---------+-----------+\n",
      "|namespace|tableName|isTemporary|\n",
      "+---------+---------+-----------+\n",
      "+---------+---------+-----------+\n",
      "\n"
     ]
    },
    {
     "name": "stderr",
     "output_type": "stream",
     "text": [
      "24/01/04 21:57:53 WARN ObjectStore: Failed to get database global_temp, returning NoSuchObjectException\n"
     ]
    }
   ],
   "source": [
    "result = spark.sql(\"use default;\")\n",
    "\n",
    "spark.sql(\"show tables;\").show()"
   ]
  },
  {
   "cell_type": "code",
   "execution_count": 10,
   "id": "982eed76-5ab9-4d3c-9f69-a1c29da345a6",
   "metadata": {},
   "outputs": [],
   "source": [
    "csv_catalogue = \"/root/tpa/tpa/DATABASE/data/Catalogue.csv\"\n",
    "\n",
    "df_catalogue = spark.read.csv(csv_catalogue, header=True, inferSchema=True)\n",
    "df_catalogue = df_catalogue.withColumn(\"marque\", F.lower(F.col(\"marque\")))"
   ]
  },
  {
   "cell_type": "code",
   "execution_count": 11,
   "id": "402b798e-6be3-48f5-a103-539e2c5876e5",
   "metadata": {},
   "outputs": [
    {
     "name": "stdout",
     "output_type": "stream",
     "text": [
      "+----------+--------------+---------+-----------+--------+--------+-------+--------+-----+\n",
      "|    marque|           nom|puissance|   longueur|nbPlaces|nbPortes|couleur|occasion| prix|\n",
      "+----------+--------------+---------+-----------+--------+--------+-------+--------+-----+\n",
      "|     volvo|        S80 T6|      272|tr�s longue|       5|       5|  blanc|   false|50500|\n",
      "|     volvo|        S80 T6|      272|tr�s longue|       5|       5|   noir|   false|50500|\n",
      "|     volvo|        S80 T6|      272|tr�s longue|       5|       5|  rouge|   false|50500|\n",
      "|     volvo|        S80 T6|      272|tr�s longue|       5|       5|   gris|    true|35350|\n",
      "|     volvo|        S80 T6|      272|tr�s longue|       5|       5|   bleu|    true|35350|\n",
      "|     volvo|        S80 T6|      272|tr�s longue|       5|       5|   gris|   false|50500|\n",
      "|     volvo|        S80 T6|      272|tr�s longue|       5|       5|   bleu|   false|50500|\n",
      "|     volvo|        S80 T6|      272|tr�s longue|       5|       5|  rouge|    true|35350|\n",
      "|     volvo|        S80 T6|      272|tr�s longue|       5|       5|  blanc|    true|35350|\n",
      "|     volvo|        S80 T6|      272|tr�s longue|       5|       5|   noir|    true|35350|\n",
      "|volkswagen|Touran 2.0 FSI|      150|     longue|       7|       5|  rouge|   false|27340|\n",
      "|volkswagen|Touran 2.0 FSI|      150|     longue|       7|       5|   gris|    true|19138|\n",
      "|volkswagen|Touran 2.0 FSI|      150|     longue|       7|       5|   bleu|    true|19138|\n",
      "|volkswagen|Touran 2.0 FSI|      150|     longue|       7|       5|   gris|   false|27340|\n",
      "|volkswagen|Touran 2.0 FSI|      150|     longue|       7|       5|   bleu|   false|27340|\n",
      "|volkswagen|Touran 2.0 FSI|      150|     longue|       7|       5|  blanc|    true|19138|\n",
      "|volkswagen|Touran 2.0 FSI|      150|     longue|       7|       5|   noir|    true|19138|\n",
      "|volkswagen|Touran 2.0 FSI|      150|     longue|       7|       5|  rouge|    true|19138|\n",
      "|volkswagen|Touran 2.0 FSI|      150|     longue|       7|       5|  blanc|   false|27340|\n",
      "|volkswagen|Touran 2.0 FSI|      150|     longue|       7|       5|   noir|   false|27340|\n",
      "+----------+--------------+---------+-----------+--------+--------+-------+--------+-----+\n",
      "only showing top 20 rows\n",
      "\n"
     ]
    }
   ],
   "source": [
    "df_catalogue.show()"
   ]
  },
  {
   "cell_type": "code",
   "execution_count": 12,
   "id": "ec36d58c-84a7-4eb0-ac0e-f32eaf05e9e7",
   "metadata": {},
   "outputs": [],
   "source": [
    "joined_df = df_catalogue.join(result_df, df_catalogue.marque == result_df.Marque, \"left_outer\")"
   ]
  },
  {
   "cell_type": "code",
   "execution_count": 13,
   "id": "585ea96b-64d5-48b5-8160-2a869aa7dc73",
   "metadata": {},
   "outputs": [
    {
     "name": "stdout",
     "output_type": "stream",
     "text": [
      "+----------+--------------+---------+-----------+--------+--------+-------+--------+-----+---------------+--------------+----------------+\n",
      "|marque    |nom           |puissance|longueur   |nbPlaces|nbPortes|couleur|occasion|prix |Avg_Bonus_Malus|Avg_Rejets_CO2|Avg_Cout_energie|\n",
      "+----------+--------------+---------+-----------+--------+--------+-------+--------+-----+---------------+--------------+----------------+\n",
      "|volvo     |S80 T6        |272      |tr�s longue|5       |5       |blanc  |false   |50500|NULL           |42.45         |72.73           |\n",
      "|volvo     |S80 T6        |272      |tr�s longue|5       |5       |noir   |false   |50500|NULL           |42.45         |72.73           |\n",
      "|volvo     |S80 T6        |272      |tr�s longue|5       |5       |rouge  |false   |50500|NULL           |42.45         |72.73           |\n",
      "|volvo     |S80 T6        |272      |tr�s longue|5       |5       |gris   |true    |35350|NULL           |42.45         |72.73           |\n",
      "|volvo     |S80 T6        |272      |tr�s longue|5       |5       |bleu   |true    |35350|NULL           |42.45         |72.73           |\n",
      "|volvo     |S80 T6        |272      |tr�s longue|5       |5       |gris   |false   |50500|NULL           |42.45         |72.73           |\n",
      "|volvo     |S80 T6        |272      |tr�s longue|5       |5       |bleu   |false   |50500|NULL           |42.45         |72.73           |\n",
      "|volvo     |S80 T6        |272      |tr�s longue|5       |5       |rouge  |true    |35350|NULL           |42.45         |72.73           |\n",
      "|volvo     |S80 T6        |272      |tr�s longue|5       |5       |blanc  |true    |35350|NULL           |42.45         |72.73           |\n",
      "|volvo     |S80 T6        |272      |tr�s longue|5       |5       |noir   |true    |35350|NULL           |42.45         |72.73           |\n",
      "|volkswagen|Touran 2.0 FSI|150      |longue     |7       |5       |rouge  |false   |27340|-6000.0        |13.33         |149.33          |\n",
      "|volkswagen|Touran 2.0 FSI|150      |longue     |7       |5       |gris   |true    |19138|-6000.0        |13.33         |149.33          |\n",
      "|volkswagen|Touran 2.0 FSI|150      |longue     |7       |5       |bleu   |true    |19138|-6000.0        |13.33         |149.33          |\n",
      "|volkswagen|Touran 2.0 FSI|150      |longue     |7       |5       |gris   |false   |27340|-6000.0        |13.33         |149.33          |\n",
      "|volkswagen|Touran 2.0 FSI|150      |longue     |7       |5       |bleu   |false   |27340|-6000.0        |13.33         |149.33          |\n",
      "|volkswagen|Touran 2.0 FSI|150      |longue     |7       |5       |blanc  |true    |19138|-6000.0        |13.33         |149.33          |\n",
      "|volkswagen|Touran 2.0 FSI|150      |longue     |7       |5       |noir   |true    |19138|-6000.0        |13.33         |149.33          |\n",
      "|volkswagen|Touran 2.0 FSI|150      |longue     |7       |5       |rouge  |true    |19138|-6000.0        |13.33         |149.33          |\n",
      "|volkswagen|Touran 2.0 FSI|150      |longue     |7       |5       |blanc  |false   |27340|-6000.0        |13.33         |149.33          |\n",
      "|volkswagen|Touran 2.0 FSI|150      |longue     |7       |5       |noir   |false   |27340|-6000.0        |13.33         |149.33          |\n",
      "+----------+--------------+---------+-----------+--------+--------+-------+--------+-----+---------------+--------------+----------------+\n",
      "only showing top 20 rows\n",
      "\n"
     ]
    }
   ],
   "source": [
    "joined_df = joined_df.select(\n",
    "    df_catalogue[\"*\"],\n",
    "    result_df[\"Avg_Bonus_Malus\"],\n",
    "    result_df[\"Avg_Rejets_CO2\"],\n",
    "    result_df[\"Avg_Cout_energie\"]\n",
    ")\n",
    "\n",
    "joined_df.show(truncate=False)"
   ]
  },
  {
   "cell_type": "code",
   "execution_count": 14,
   "id": "bd90f443-0d70-4e36-b811-4daed4b81ee6",
   "metadata": {},
   "outputs": [],
   "source": [
    "specific_marque_df = joined_df.filter(F.col(\"marque\") == \"seat\")"
   ]
  },
  {
   "cell_type": "code",
   "execution_count": 15,
   "id": "6a9db618-0fda-41d7-a7ec-db6848dda046",
   "metadata": {},
   "outputs": [
    {
     "name": "stdout",
     "output_type": "stream",
     "text": [
      "+------+----------+---------+--------+--------+--------+-------+--------+-----+---------------+--------------+----------------+\n",
      "|marque|       nom|puissance|longueur|nbPlaces|nbPortes|couleur|occasion| prix|Avg_Bonus_Malus|Avg_Rejets_CO2|Avg_Cout_energie|\n",
      "+------+----------+---------+--------+--------+--------+-------+--------+-----+---------------+--------------+----------------+\n",
      "|  seat|Toledo 1.6|      102|  longue|       5|       5|  blanc|   false|18880|           NULL|          NULL|            NULL|\n",
      "|  seat|Toledo 1.6|      102|  longue|       5|       5|   noir|   false|18880|           NULL|          NULL|            NULL|\n",
      "|  seat|Toledo 1.6|      102|  longue|       5|       5|  rouge|   false|18880|           NULL|          NULL|            NULL|\n",
      "|  seat|Toledo 1.6|      102|  longue|       5|       5|   gris|   false|18880|           NULL|          NULL|            NULL|\n",
      "|  seat|Toledo 1.6|      102|  longue|       5|       5|   bleu|   false|18880|           NULL|          NULL|            NULL|\n",
      "+------+----------+---------+--------+--------+--------+-------+--------+-----+---------------+--------------+----------------+\n",
      "\n"
     ]
    }
   ],
   "source": [
    "specific_marque_df.show()"
   ]
  },
  {
   "cell_type": "code",
   "execution_count": 16,
   "id": "c0025816-814c-4bcf-b527-9b9f08eab1a1",
   "metadata": {},
   "outputs": [
    {
     "name": "stdout",
     "output_type": "stream",
     "text": [
      "+---------------+--------------+----------------+\n",
      "|Avg_Bonus_Malus|Avg_Rejets_CO2|Avg_Cout_energie|\n",
      "+---------------+--------------+----------------+\n",
      "|       -3631.88|         43.88|          264.45|\n",
      "+---------------+--------------+----------------+\n",
      "\n"
     ]
    }
   ],
   "source": [
    "not_null_values_df = joined_df.filter(F.col('Avg_Bonus_Malus').isNotNull())\n",
    "\n",
    "global_avg_df = not_null_values_df.agg(\n",
    "    F.round(F.avg('Avg_Bonus_Malus'), 2).alias('Avg_Bonus_Malus'),\n",
    "    F.round(F.avg('Avg_Rejets_CO2'), 2).alias('Avg_Rejets_CO2'),\n",
    "    F.round(F.avg('Avg_Cout_energie'), 2).alias('Avg_Cout_energie')\n",
    ")\n",
    "\n",
    "global_avg_df.show()"
   ]
  },
  {
   "cell_type": "code",
   "execution_count": 17,
   "id": "4047555f-2d7d-4aa6-9906-d8bff36e4372",
   "metadata": {},
   "outputs": [],
   "source": [
    "final_df = joined_df.na.fill(global_avg_df.first().asDict())"
   ]
  },
  {
   "cell_type": "code",
   "execution_count": 19,
   "id": "fb5bbd93-378e-458e-84a1-89b99e74b955",
   "metadata": {},
   "outputs": [
    {
     "name": "stdout",
     "output_type": "stream",
     "text": [
      "+----------+--------------+---------+-----------+--------+--------+-------+--------+-----+---------------+--------------+----------------+\n",
      "|    marque|           nom|puissance|   longueur|nbPlaces|nbPortes|couleur|occasion| prix|Avg_Bonus_Malus|Avg_Rejets_CO2|Avg_Cout_energie|\n",
      "+----------+--------------+---------+-----------+--------+--------+-------+--------+-----+---------------+--------------+----------------+\n",
      "|     volvo|        S80 T6|      272|tr�s longue|       5|       5|  blanc|   false|50500|       -3631.88|         42.45|           72.73|\n",
      "|     volvo|        S80 T6|      272|tr�s longue|       5|       5|   noir|   false|50500|       -3631.88|         42.45|           72.73|\n",
      "|     volvo|        S80 T6|      272|tr�s longue|       5|       5|  rouge|   false|50500|       -3631.88|         42.45|           72.73|\n",
      "|     volvo|        S80 T6|      272|tr�s longue|       5|       5|   gris|    true|35350|       -3631.88|         42.45|           72.73|\n",
      "|     volvo|        S80 T6|      272|tr�s longue|       5|       5|   bleu|    true|35350|       -3631.88|         42.45|           72.73|\n",
      "|     volvo|        S80 T6|      272|tr�s longue|       5|       5|   gris|   false|50500|       -3631.88|         42.45|           72.73|\n",
      "|     volvo|        S80 T6|      272|tr�s longue|       5|       5|   bleu|   false|50500|       -3631.88|         42.45|           72.73|\n",
      "|     volvo|        S80 T6|      272|tr�s longue|       5|       5|  rouge|    true|35350|       -3631.88|         42.45|           72.73|\n",
      "|     volvo|        S80 T6|      272|tr�s longue|       5|       5|  blanc|    true|35350|       -3631.88|         42.45|           72.73|\n",
      "|     volvo|        S80 T6|      272|tr�s longue|       5|       5|   noir|    true|35350|       -3631.88|         42.45|           72.73|\n",
      "|volkswagen|Touran 2.0 FSI|      150|     longue|       7|       5|  rouge|   false|27340|        -6000.0|         13.33|          149.33|\n",
      "|volkswagen|Touran 2.0 FSI|      150|     longue|       7|       5|   gris|    true|19138|        -6000.0|         13.33|          149.33|\n",
      "|volkswagen|Touran 2.0 FSI|      150|     longue|       7|       5|   bleu|    true|19138|        -6000.0|         13.33|          149.33|\n",
      "|volkswagen|Touran 2.0 FSI|      150|     longue|       7|       5|   gris|   false|27340|        -6000.0|         13.33|          149.33|\n",
      "|volkswagen|Touran 2.0 FSI|      150|     longue|       7|       5|   bleu|   false|27340|        -6000.0|         13.33|          149.33|\n",
      "|volkswagen|Touran 2.0 FSI|      150|     longue|       7|       5|  blanc|    true|19138|        -6000.0|         13.33|          149.33|\n",
      "|volkswagen|Touran 2.0 FSI|      150|     longue|       7|       5|   noir|    true|19138|        -6000.0|         13.33|          149.33|\n",
      "|volkswagen|Touran 2.0 FSI|      150|     longue|       7|       5|  rouge|    true|19138|        -6000.0|         13.33|          149.33|\n",
      "|volkswagen|Touran 2.0 FSI|      150|     longue|       7|       5|  blanc|   false|27340|        -6000.0|         13.33|          149.33|\n",
      "|volkswagen|Touran 2.0 FSI|      150|     longue|       7|       5|   noir|   false|27340|        -6000.0|         13.33|          149.33|\n",
      "+----------+--------------+---------+-----------+--------+--------+-------+--------+-----+---------------+--------------+----------------+\n",
      "only showing top 20 rows\n",
      "\n"
     ]
    }
   ],
   "source": [
    "final_df.show()"
   ]
  },
  {
   "cell_type": "code",
   "execution_count": 21,
   "id": "038bda6e-962f-4bd5-9230-9bb369720aec",
   "metadata": {},
   "outputs": [],
   "source": [
    "specific_marque_df = final_df.filter(F.col(\"marque\") == \"seat\")"
   ]
  },
  {
   "cell_type": "code",
   "execution_count": 22,
   "id": "dc9f57a6-db09-48b6-b76d-071231f48583",
   "metadata": {},
   "outputs": [
    {
     "name": "stdout",
     "output_type": "stream",
     "text": [
      "+------+----------+---------+--------+--------+--------+-------+--------+-----+---------------+--------------+----------------+\n",
      "|marque|       nom|puissance|longueur|nbPlaces|nbPortes|couleur|occasion| prix|Avg_Bonus_Malus|Avg_Rejets_CO2|Avg_Cout_energie|\n",
      "+------+----------+---------+--------+--------+--------+-------+--------+-----+---------------+--------------+----------------+\n",
      "|  seat|Toledo 1.6|      102|  longue|       5|       5|  blanc|   false|18880|       -3631.88|         43.88|          264.45|\n",
      "|  seat|Toledo 1.6|      102|  longue|       5|       5|   noir|   false|18880|       -3631.88|         43.88|          264.45|\n",
      "|  seat|Toledo 1.6|      102|  longue|       5|       5|  rouge|   false|18880|       -3631.88|         43.88|          264.45|\n",
      "|  seat|Toledo 1.6|      102|  longue|       5|       5|   gris|   false|18880|       -3631.88|         43.88|          264.45|\n",
      "|  seat|Toledo 1.6|      102|  longue|       5|       5|   bleu|   false|18880|       -3631.88|         43.88|          264.45|\n",
      "+------+----------+---------+--------+--------+--------+-------+--------+-----+---------------+--------------+----------------+\n",
      "\n"
     ]
    }
   ],
   "source": [
    "specific_marque_df.show()"
   ]
  },
  {
   "cell_type": "code",
   "execution_count": 36,
   "id": "dab2c723-6341-4a71-806e-76d331d4157e",
   "metadata": {},
   "outputs": [],
   "source": [
    "output_path = \"/root/tpa/tpa/DATABASE/data/final_df.csv\"\n",
    "final_df.write.csv(output_path, mode=\"overwrite\", header=True)"
   ]
  },
  {
   "cell_type": "code",
   "execution_count": null,
   "id": "1fe5d969-2d33-4b30-9dcc-57022c594e31",
   "metadata": {},
   "outputs": [],
   "source": []
  }
 ],
 "metadata": {
  "kernelspec": {
   "display_name": "Python 3 (ipykernel)",
   "language": "python",
   "name": "python3"
  },
  "language_info": {
   "codemirror_mode": {
    "name": "ipython",
    "version": 3
   },
   "file_extension": ".py",
   "mimetype": "text/x-python",
   "name": "python",
   "nbconvert_exporter": "python",
   "pygments_lexer": "ipython3",
   "version": "3.10.12"
  }
 },
 "nbformat": 4,
 "nbformat_minor": 5
}
